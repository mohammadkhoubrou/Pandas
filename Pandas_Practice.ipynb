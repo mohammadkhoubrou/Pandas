{
 "cells": [
  {
   "cell_type": "markdown",
   "metadata": {},
   "source": [
    "Pandas is a python library used in Data Science for manipulating and working with dataset."
   ]
  },
  {
   "cell_type": "code",
   "execution_count": 3,
   "metadata": {},
   "outputs": [],
   "source": [
    "import pandas as pd\n",
    "\"\"\"\n",
    "inorder to use pandas, we have to import it at \n",
    "the top of our code\n",
    "\"\"\""
   ]
  },
  {
   "cell_type": "markdown",
   "metadata": {},
   "source": [
    "Data is shown in 2 ways in pandas. one, DataFrame and two, Series. DataFrame is simply and array of individual entries with specific values. columns with infinite rows as values.\n",
    "And we have series that include a single column with rows of data."
   ]
  },
  {
   "cell_type": "code",
   "execution_count": 5,
   "metadata": {},
   "outputs": [],
   "source": [
    "data_frame = pd.DataFrame()\n",
    "#you can define values and columns with a dictionary including\n",
    "#the name of the column as key and a list for values\n",
    "data_frame = pd.Series()\n",
    "#you only need to enter a list for values and using the keyword\n",
    "#Name, you can define a name for the series"
   ]
  },
  {
   "cell_type": "code",
   "execution_count": null,
   "metadata": {},
   "outputs": [],
   "source": [
    "DataSet = pd.read_csv(\"path to your file\")\n",
    "#using this method you can open the file in your code\n",
    "#so you have access to edit and manipulate the data"
   ]
  },
  {
   "cell_type": "code",
   "execution_count": null,
   "metadata": {},
   "outputs": [],
   "source": [
    "DataSet.shape() #shows the size of the Dataset(rows, columns)\n",
    "DataSet.head() #shows top 5 rows\n",
    "DataSet.to_csv() #saves the changes into a CSV file"
   ]
  }
 ],
 "metadata": {
  "kernelspec": {
   "display_name": "data",
   "language": "python",
   "name": "python3"
  },
  "language_info": {
   "codemirror_mode": {
    "name": "ipython",
    "version": 3
   },
   "file_extension": ".py",
   "mimetype": "text/x-python",
   "name": "python",
   "nbconvert_exporter": "python",
   "pygments_lexer": "ipython3",
   "version": "3.10.13"
  }
 },
 "nbformat": 4,
 "nbformat_minor": 2
}
