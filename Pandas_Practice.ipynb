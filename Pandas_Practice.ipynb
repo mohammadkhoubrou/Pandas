{
 "cells": [
  {
   "cell_type": "markdown",
   "metadata": {},
   "source": [
    "Pandas is a python library used in Data Science for manipulating and working with dataset."
   ]
  },
  {
   "cell_type": "code",
   "execution_count": 3,
   "metadata": {},
   "outputs": [],
   "source": [
    "import pandas as pd\n",
    "\"\"\"\n",
    "inorder to use pandas, we have to import it at \n",
    "the top of our code\n",
    "\"\"\""
   ]
  },
  {
   "cell_type": "markdown",
   "metadata": {},
   "source": [
    "Data is shown in 2 ways in pandas. one, DataFrame and two, Series. DataFrame is simply and array of individual entries with specific values. columns with infinite rows as values.\n",
    "And we have series that include a single column with rows of data."
   ]
  },
  {
   "cell_type": "code",
   "execution_count": 5,
   "metadata": {},
   "outputs": [],
   "source": [
    "data_frame = pd.DataFrame()\n",
    "#you can define values and columns with a dictionary including\n",
    "#the name of the column as key and a list for values\n",
    "data_frame = pd.Series()\n",
    "#you only need to enter a list for values and using the keyword\n",
    "#Name, you can define a name for the series"
   ]
  },
  {
   "cell_type": "code",
   "execution_count": null,
   "metadata": {},
   "outputs": [],
   "source": [
    "DataSet = pd.read_csv(\"path to your file\")\n",
    "#using this method you can open the file in your code\n",
    "#so you have access to edit and manipulate the data"
   ]
  },
  {
   "cell_type": "code",
   "execution_count": null,
   "metadata": {},
   "outputs": [],
   "source": [
    "DataSet.shape() #shows the size of the Dataset(rows, columns)\n",
    "DataSet.head() #shows top 5 rows\n",
    "DataSet.to_csv() #saves the changes into a CSV file"
   ]
  },
  {
   "cell_type": "code",
   "execution_count": null,
   "metadata": {},
   "outputs": [],
   "source": [
    "Dataset.column_name #returns the column with all the rows\n",
    "Dataset[\"column name\"] #we can also access the columns using indexing operator [], this one works better if you've spaces in your column names\n",
    "Dataset[\"column name\"][\"index\"] #returns specific value of the given index in the column\n"
   ]
  },
  {
   "cell_type": "markdown",
   "metadata": {},
   "source": [
    "We also have iloc and loc methods. They are known as paradiagram and label base selection. They return rows.\n",
    "iloc[],you can specify the beginning and ending index but keep in mind that indexes in iloc[] work just like python so for n \n",
    "numbers you'll have to set the ending index as n-1\n",
    "loc[], will return the value of a specific column in specified index.\n",
    "using : operator means all the values. so for specifying values starting from n to m, we have n:m. using negative numbers will start backwords \n"
   ]
  },
  {
   "cell_type": "code",
   "execution_count": null,
   "metadata": {},
   "outputs": [],
   "source": [
    "Dataset.iloc[]\n",
    "Dataset.loc[indexs, \"column\"]"
   ]
  },
  {
   "cell_type": "code",
   "execution_count": null,
   "metadata": {},
   "outputs": [],
   "source": [
    "Dataset.set_index(\"name\") #adds a row"
   ]
  },
  {
   "cell_type": "markdown",
   "metadata": {},
   "source": [
    "Condition Based Selection\n",
    "In condition based selection we put conditions on the values of the specific columns and if the rows meet the needs, they're returned"
   ]
  },
  {
   "cell_type": "code",
   "execution_count": null,
   "metadata": {},
   "outputs": [],
   "source": [
    "Dataset.column_name = \"name\" #returns the column a series with boolean type values for the rows in the specified column if it sees the condition\n",
    "Dataset.loc[Dataset.column_name==\"name\" & Dataset.column_name==\"name2\"] #returns rows that have the specified values in the specified columns\n",
    "#we can also use | as or operator"
   ]
  },
  {
   "cell_type": "markdown",
   "metadata": {},
   "source": [
    "We can use (isin, isnull, notnull) as the methods if the columns we're trying to operate on are more than one."
   ]
  },
  {
   "cell_type": "code",
   "execution_count": null,
   "metadata": {},
   "outputs": [],
   "source": [
    "Dataset.loc[Dataset.column_name.isin([\"list of the column values\"])]\n",
    "Dataset.loc[Dataset.column_name.isnull([\"list of the column values\"])]\n",
    "Dataset.loc[Dataset.column_name.notnull([\"list of the column values\"])]"
   ]
  },
  {
   "cell_type": "code",
   "execution_count": null,
   "metadata": {},
   "outputs": [],
   "source": [
    "Dataset.column.mean() #mean function is use to calculate the mean value. similarly, we have median\n",
    "#unique(), used to show what values are in the dataset regardless of repetation\n",
    "#value_count(), returns the number of times each value was repeted"
   ]
  },
  {
   "cell_type": "markdown",
   "metadata": {},
   "source": [
    "map And apply\n",
    "using map function you'll be able to transform data from one format to another. for instance you'll create a function(regular or inner function using lambda) and once you call it on a ceratain column of the DataFrame, it will be applied on all the rows of that column.\n",
    "with apply you can simply do the same but using the index parameter you can specify the region in mind."
   ]
  },
  {
   "cell_type": "code",
   "execution_count": null,
   "metadata": {},
   "outputs": [],
   "source": [
    "DataFrame.column.map()\n",
    "DataFrame.column.apply()"
   ]
  },
  {
   "cell_type": "markdown",
   "metadata": {},
   "source": [
    "groupby(), agg()\n",
    "using the groupby method you will creat dataframes with the indexes specified in the groupby arguments. so basically you'll have a DataFrame that includes the values from the specified column or columns as the indexes.;\n",
    "using the agg method allows you to run multiple functions on a column."
   ]
  },
  {
   "cell_type": "code",
   "execution_count": null,
   "metadata": {},
   "outputs": [],
   "source": [
    "new = DataFrame.groupby(\"column\").column2.agg([len,min,max])\n",
    "\"\"\"\n",
    "here we have created a new DataFrame based on the \"column\" and then put the length,min value and max value of column2 as \n",
    "values in the DataFrame\n",
    "\"\"\""
   ]
  },
  {
   "cell_type": "markdown",
   "metadata": {},
   "source": [
    "reset_index()\n",
    "you can reset the indexes to the default version using the function above.\n",
    "sort_values()\n",
    "you can sort the DataFrame using this function and also using the \"ascending\" argument (which is set to True by default and sorts data from min to max) control the sorting."
   ]
  },
  {
   "cell_type": "markdown",
   "metadata": {},
   "source": [
    "Every DataFrame has dtype property which shows the datatype of the columns. calling this on any column in a DataFrame will return the \n",
    "datatype of the column.\n",
    "Sometimes we need to change the datatype of the columns in the DataFrame. we can do this by calling the astype() method on the column and specifying the new data type in the paranthesis."
   ]
  },
  {
   "cell_type": "markdown",
   "metadata": {},
   "source": [
    "Missing Values\n",
    "missing values situation is when a row value for a column is not defined. In this situation the missing value is specified by the  \"NaN\".\n",
    "using isnull() function will allow us to reach the rows of certain columns that have missing value. the syntax of this function looks like this:\n",
    "DataFrame[pd.isnull(DataFrame.column)]\n",
    "We can do a couple things to deal with missing data\n",
    "first, we can fill the missing data using fillna. you simply call this function on the column and specify the new desired value as argument.\n",
    "second, we can use replace() method but not only for missing values but for all replacement tasks. you simply specify the old and new value in order in the function."
   ]
  },
  {
   "cell_type": "markdown",
   "metadata": {},
   "source": []
  }
 ],
 "metadata": {
  "kernelspec": {
   "display_name": "data",
   "language": "python",
   "name": "python3"
  },
  "language_info": {
   "codemirror_mode": {
    "name": "ipython",
    "version": 3
   },
   "file_extension": ".py",
   "mimetype": "text/x-python",
   "name": "python",
   "nbconvert_exporter": "python",
   "pygments_lexer": "ipython3",
   "version": "3.10.13"
  }
 },
 "nbformat": 4,
 "nbformat_minor": 2
}
